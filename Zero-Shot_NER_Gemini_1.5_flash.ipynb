{
  "cells": [
    {
      "cell_type": "markdown",
      "metadata": {
        "id": "NK1o4aIpzMYJ"
      },
      "source": [
        "Name: Biruk Kiros Meles\n",
        "\n",
        "\n",
        "Single Run zero shot"
      ]
    },
    {
      "cell_type": "markdown",
      "metadata": {
        "id": "us02UDm6zJ30"
      },
      "source": [
        "The conll2003_data's English data was taken from the Reuters Corpus. This corpus consists of Reuters news stories between August 1996 and August 1997."
      ]
    },
    {
      "cell_type": "markdown",
      "metadata": {
        "id": "uvnYeVVNcCql"
      },
      "source": [
        "LLM: Gemini 1.5 flash Free tier"
      ]
    },
    {
      "cell_type": "code",
      "execution_count": null,
      "metadata": {
        "id": "9SaxvxGoPNiM"
      },
      "outputs": [],
      "source": [
        "# Initial setup - import all required libraries\n",
        "import datasets\n",
        "from datasets import load_dataset\n",
        "import spacy\n",
        "import numpy as np\n",
        "import openai  # or your chosen LLM client\n",
        "import matplotlib.pyplot as plt\n",
        "import pandas as pd\n",
        "from tqdm import tqdm\n",
        "import random\n",
        "import json\n",
        "import os\n",
        "import urllib.request\n",
        "import zipfile\n",
        "\n",
        "# Create a directory to store the data\n",
        "data_dir = \"/content/conll2003_data\"  # Colab paths start with /content/\n",
        "os.makedirs(data_dir, exist_ok=True)\n",
        "\n",
        "# Download the dataset\n",
        "dataset_url = \"https://data.deepai.org/conll2003.zip\"\n",
        "zip_path = os.path.join(data_dir, \"conll2003.zip\")\n",
        "urllib.request.urlretrieve(dataset_url, zip_path)\n",
        "\n",
        "# Extract the files\n",
        "with zipfile.ZipFile(zip_path, 'r') as zip_ref:\n",
        "    zip_ref.extractall(data_dir)\n",
        "\n",
        "print(f\"Dataset downloaded to: {data_dir}\")"
      ]
    },
    {
      "cell_type": "markdown",
      "metadata": {
        "id": "dH8uuccsUPfI"
      },
      "source": [
        "check the dataset"
      ]
    },
    {
      "cell_type": "code",
      "execution_count": 3,
      "metadata": {
        "colab": {
          "base_uri": "https://localhost:8080/"
        },
        "id": "mcsMFzseURAa",
        "outputId": "706978b3-aad4-4f67-998f-deaeda16a762"
      },
      "outputs": [
        {
          "name": "stdout",
          "output_type": "stream",
          "text": [
            "total 5716\n",
            "-rw-r--r-- 1 root root  982975 Jun 14 21:35 conll2003.zip\n",
            "-rw-r--r-- 1 root root     153 Jun 14 21:35 metadata\n",
            "-rw-r--r-- 1 root root  748095 Jun 14 21:35 test.txt\n",
            "-rw-r--r-- 1 root root 3283420 Jun 14 21:35 train.txt\n",
            "-rw-r--r-- 1 root root  827443 Jun 14 21:35 valid.txt\n"
          ]
        }
      ],
      "source": [
        "# Check what files we have\n",
        "!ls -l \"/content/conll2003_data\"\n",
        "\n",
        "# Expected files:\n",
        "# - test.txt\n",
        "# - train.txt\n",
        "# - valid.txt\n"
      ]
    },
    {
      "cell_type": "markdown",
      "metadata": {
        "id": "0CoF8ZH1UYt0"
      },
      "source": [
        "see the sentecnes\n"
      ]
    },
    {
      "cell_type": "code",
      "execution_count": 4,
      "metadata": {
        "colab": {
          "base_uri": "https://localhost:8080/"
        },
        "id": "rjhlX8KWUaNy",
        "outputId": "499f676c-a417-4376-fb0d-e7e83553c0f1"
      },
      "outputs": [
        {
          "name": "stdout",
          "output_type": "stream",
          "text": [
            "\n",
            "First 5 sentences from /content/conll2003_data/train.txt:\n",
            "1. -DOCSTART-\n",
            "2. EU rejects German call to boycott British lamb .\n",
            "3. Peter Blackburn\n",
            "4. BRUSSELS 1996-08-22\n",
            "5. The European Commission said on Thursday it disagreed with German advice to consumers to shun British lamb until scientists determine whether mad cow disease can be transmitted to sheep .\n",
            "\n",
            "First 3 sentences from /content/conll2003_data/valid.txt:\n",
            "1. -DOCSTART-\n",
            "2. CRICKET - LEICESTERSHIRE TAKE OVER AT TOP AFTER INNINGS VICTORY .\n",
            "3. LONDON 1996-08-30\n",
            "\n",
            "First 3 sentences from /content/conll2003_data/test.txt:\n",
            "1. -DOCSTART-\n",
            "2. SOCCER - JAPAN GET LUCKY WIN , CHINA IN SURPRISE DEFEAT .\n",
            "3. Nadim Ladki\n"
          ]
        }
      ],
      "source": [
        "def view_sentences(file_path, num_samples=5):\n",
        "    \"\"\"View sample sentences from a file\"\"\"\n",
        "    with open(file_path, 'r', encoding='utf-8') as f:\n",
        "        current_sentence = []\n",
        "        samples_shown = 0\n",
        "\n",
        "        print(f\"\\nFirst {num_samples} sentences from {file_path}:\")\n",
        "        for line in f:\n",
        "            line = line.strip()\n",
        "            if not line:\n",
        "                if current_sentence:\n",
        "                    print(f\"{samples_shown+1}. {' '.join(current_sentence)}\")\n",
        "                    current_sentence = []\n",
        "                    samples_shown += 1\n",
        "                    if samples_shown >= num_samples:\n",
        "                        break\n",
        "                continue\n",
        "            token = line.split()[0]  # First item is the token\n",
        "            current_sentence.append(token)\n",
        "\n",
        "# View training set sentences\n",
        "view_sentences(\"/content/conll2003_data/train.txt\")\n",
        "\n",
        "# View validation set sentences\n",
        "view_sentences(\"/content/conll2003_data/valid.txt\", 3)\n",
        "\n",
        "# View test set sentences\n",
        "view_sentences(\"/content/conll2003_data/test.txt\", 3)"
      ]
    },
    {
      "cell_type": "markdown",
      "metadata": {
        "id": "xZZ8ZHXuVhTE"
      },
      "source": [
        "#Display the senteces and their tags\n"
      ]
    },
    {
      "cell_type": "code",
      "execution_count": 5,
      "metadata": {
        "colab": {
          "base_uri": "https://localhost:8080/"
        },
        "id": "tVB3dWy6VkQ0",
        "outputId": "33278849-0717-49c2-ec9b-13a72818ad6d"
      },
      "outputs": [
        {
          "name": "stdout",
          "output_type": "stream",
          "text": [
            "\n",
            "Tagged samples from /content/conll2003_data/train.txt:\n",
            "\n",
            "Sentence 1:\n",
            "Text: EU rejects German call to boycott British lamb .\n",
            "Tokens: ['EU', 'rejects', 'German', 'call', 'to', 'boycott', 'British', 'lamb', '.']\n",
            "POS Tags: ['NNP', 'VBZ', 'JJ', 'NN', 'TO', 'VB', 'JJ', 'NN', '.']\n",
            "NER Tags: ['B-ORG', 'O', 'B-MISC', 'O', 'O', 'O', 'B-MISC', 'O', 'O']\n",
            "\n",
            "Sentence 2:\n",
            "Text: Peter Blackburn\n",
            "Tokens: ['Peter', 'Blackburn']\n",
            "POS Tags: ['NNP', 'NNP']\n",
            "NER Tags: ['B-PER', 'I-PER']\n",
            "\n",
            "Sentence 3:\n",
            "Text: BRUSSELS 1996-08-22\n",
            "Tokens: ['BRUSSELS', '1996-08-22']\n",
            "POS Tags: ['NNP', 'CD']\n",
            "NER Tags: ['B-LOC', 'O']\n",
            "\n",
            "Sentence 4:\n",
            "Text: The European Commission said on Thursday it disagreed with German advice to consumers to shun British lamb until scientists determine whether mad cow disease can be transmitted to sheep .\n",
            "Tokens: ['The', 'European', 'Commission', 'said', 'on', 'Thursday', 'it', 'disagreed', 'with', 'German', 'advice', 'to', 'consumers', 'to', 'shun', 'British', 'lamb', 'until', 'scientists', 'determine', 'whether', 'mad', 'cow', 'disease', 'can', 'be', 'transmitted', 'to', 'sheep', '.']\n",
            "POS Tags: ['DT', 'NNP', 'NNP', 'VBD', 'IN', 'NNP', 'PRP', 'VBD', 'IN', 'JJ', 'NN', 'TO', 'NNS', 'TO', 'VB', 'JJ', 'NN', 'IN', 'NNS', 'VBP', 'IN', 'JJ', 'NN', 'NN', 'MD', 'VB', 'VBN', 'TO', 'NN', '.']\n",
            "NER Tags: ['O', 'B-ORG', 'I-ORG', 'O', 'O', 'O', 'O', 'O', 'O', 'B-MISC', 'O', 'O', 'O', 'O', 'O', 'B-MISC', 'O', 'O', 'O', 'O', 'O', 'O', 'O', 'O', 'O', 'O', 'O', 'O', 'O', 'O']\n",
            "\n",
            "Sentence 5:\n",
            "Text: Germany 's representative to the European Union 's veterinary committee Werner Zwingmann said on Wednesday consumers should buy sheepmeat from countries other than Britain until the scientific advice was clearer .\n",
            "Tokens: ['Germany', \"'s\", 'representative', 'to', 'the', 'European', 'Union', \"'s\", 'veterinary', 'committee', 'Werner', 'Zwingmann', 'said', 'on', 'Wednesday', 'consumers', 'should', 'buy', 'sheepmeat', 'from', 'countries', 'other', 'than', 'Britain', 'until', 'the', 'scientific', 'advice', 'was', 'clearer', '.']\n",
            "POS Tags: ['NNP', 'POS', 'NN', 'TO', 'DT', 'NNP', 'NNP', 'POS', 'JJ', 'NN', 'NNP', 'NNP', 'VBD', 'IN', 'NNP', 'NNS', 'MD', 'VB', 'NN', 'IN', 'NNS', 'JJ', 'IN', 'NNP', 'IN', 'DT', 'JJ', 'NN', 'VBD', 'JJR', '.']\n",
            "NER Tags: ['B-LOC', 'O', 'O', 'O', 'O', 'B-ORG', 'I-ORG', 'O', 'O', 'O', 'B-PER', 'I-PER', 'O', 'O', 'O', 'O', 'O', 'O', 'O', 'O', 'O', 'O', 'O', 'B-LOC', 'O', 'O', 'O', 'O', 'O', 'O', 'O']\n"
          ]
        }
      ],
      "source": [
        "def view_tagged_sentences(file_path, num_samples=2):\n",
        "    \"\"\"View sentences with their NER and POS tags, skipping the first line of the file\"\"\"\n",
        "    with open(file_path, 'r', encoding='utf-8') as f:\n",
        "        next(f)  # Skip the first line\n",
        "\n",
        "        current_sentence = []\n",
        "        current_pos_tags = []\n",
        "        current_ner_tags = []\n",
        "        samples_shown = 0\n",
        "\n",
        "        print(f\"\\nTagged samples from {file_path}:\")\n",
        "        for line in f:\n",
        "            line = line.strip()\n",
        "            if not line:\n",
        "                if current_sentence:\n",
        "                    print(f\"\\nSentence {samples_shown+1}:\")\n",
        "                    print(\"Text:\", ' '.join(current_sentence))\n",
        "                    print(\"Tokens:\", current_sentence)\n",
        "                    print(\"POS Tags:\", current_pos_tags)\n",
        "                    print(\"NER Tags:\", current_ner_tags)\n",
        "\n",
        "                    current_sentence = []\n",
        "                    current_pos_tags = []\n",
        "                    current_ner_tags = []\n",
        "                    samples_shown += 1\n",
        "                    if samples_shown >= num_samples:\n",
        "                        break\n",
        "                continue\n",
        "            parts = line.split()\n",
        "            if len(parts) >= 4:\n",
        "                current_sentence.append(parts[0])       # Token\n",
        "                current_pos_tags.append(parts[1])       # POS tag\n",
        "                current_ner_tags.append(parts[-1])      # NER tag (last element)\n",
        "view_tagged_sentences(\"/content/conll2003_data/train.txt\", 5)\n"
      ]
    },
    {
      "cell_type": "markdown",
      "metadata": {
        "id": "gNmz1dpLVtFG"
      },
      "source": [
        "Analyze TAG distribution\n",
        "\n",
        "\n"
      ]
    },
    {
      "cell_type": "code",
      "execution_count": 6,
      "metadata": {
        "colab": {
          "base_uri": "https://localhost:8080/",
          "height": 689
        },
        "id": "3_SdMNnfVwn5",
        "outputId": "0b26314c-c1b9-4b40-c3c0-cdefdc5b0413"
      },
      "outputs": [
        {
          "name": "stdout",
          "output_type": "stream",
          "text": [
            "\n",
            "Tag distribution in /content/conll2003_data/train.txt:\n",
            "O: 170523\n",
            "B-LOC: 7140\n",
            "B-PER: 6600\n",
            "B-ORG: 6321\n",
            "I-PER: 4528\n",
            "I-ORG: 3704\n",
            "B-MISC: 3438\n",
            "I-LOC: 1157\n",
            "I-MISC: 1155\n"
          ]
        },
        {
          "data": {
            "image/png": "[encoded data removed]",
            "text/plain": [
              "<Figure size 1000x500 with 1 Axes>"
            ]
          },
          "metadata": {},
          "output_type": "display_data"
        }
      ],
      "source": [
        "from collections import Counter\n",
        "\n",
        "def analyze_tags(file_path):\n",
        "    tag_counter = Counter()\n",
        "\n",
        "    with open(file_path, 'r', encoding='utf-8') as f:\n",
        "        next(f)\n",
        "        for line in f:\n",
        "            line = line.strip()\n",
        "            if line:  # Skip empty lines\n",
        "                tag = line.split()[-1]  # Last element is NER tag\n",
        "                tag_counter[tag] += 1\n",
        "\n",
        "    print(f\"\\nTag distribution in {file_path}:\")\n",
        "    for tag, count in tag_counter.most_common():\n",
        "        print(f\"{tag}: {count}\")\n",
        "\n",
        "    # Plot the distribution\n",
        "    import matplotlib.pyplot as plt\n",
        "    plt.figure(figsize=(10,5))\n",
        "    plt.bar(tag_counter.keys(), tag_counter.values())##Important! - Log distribution\n",
        "    plt.title(f\"NER Tag Distribution in {file_path.split('/')[-1]}\")\n",
        "    plt.xticks(rotation=45)\n",
        "    plt.show()\n",
        "\n",
        "# Analyze training set tags\n",
        "analyze_tags(\"/content/conll2003_data/train.txt\")"
      ]
    },
    {
      "cell_type": "markdown",
      "metadata": {
        "id": "VMlAbQ4CWQdC"
      },
      "source": [
        "#Proper data split\n",
        "\n",
        "\n",
        "Incase there will be a need for finetuning a local model too.\n"
      ]
    },
    {
      "cell_type": "code",
      "execution_count": 7,
      "metadata": {
        "colab": {
          "base_uri": "https://localhost:8080/"
        },
        "id": "j2EVgeIwWTmK",
        "outputId": "b7f260e0-c84d-4774-f250-f59bc92effb2"
      },
      "outputs": [
        {
          "name": "stdout",
          "output_type": "stream",
          "text": [
            "Loaded 299 dev (prompt tuning) sentences\n",
            "Loaded 3683 test sentences for evaluation\n"
          ]
        }
      ],
      "source": [
        "import random\n",
        "from sklearn.model_selection import train_test_split\n",
        "\n",
        "def load_for_zero_shot_ner_with_pos(data_dir=\"/content/conll2003_data\",\n",
        "                                   val_size=0.05,\n",
        "                                   random_state=42):\n",
        "    \"\"\"\n",
        "    Load dataset for zero-shot NER with POS tags.\n",
        "    Only returns a small dev set for prompt testing and a test set for evaluation.\n",
        "\n",
        "    Returns:\n",
        "        dev_data: list of dicts with tokens, pos_tags, tags\n",
        "        test_data: list of dicts with tokens, pos_tags, tags\n",
        "    \"\"\"\n",
        "    def load_conll_file(file_path):\n",
        "        sentences = []\n",
        "        current_sentence = []\n",
        "        current_pos_tags = []\n",
        "        current_tags = []\n",
        "\n",
        "        with open(file_path, 'r', encoding='utf-8') as f:\n",
        "            next(f)  # skip header\n",
        "            for line in f:\n",
        "                line = line.strip()\n",
        "                if not line:\n",
        "                    if current_sentence:\n",
        "                        sentences.append({\n",
        "                            'tokens': current_sentence,\n",
        "                            'pos_tags': current_pos_tags,\n",
        "                            'tags': current_tags\n",
        "                        })\n",
        "                        current_sentence = []\n",
        "                        current_pos_tags = []\n",
        "                        current_tags = []\n",
        "                    continue\n",
        "                parts = line.split()\n",
        "                current_sentence.append(parts[0])      # token\n",
        "                current_pos_tags.append(parts[1])      # pos tag (2nd column)\n",
        "                current_tags.append(parts[-1])         # ner tag (last column)\n",
        "        return sentences\n",
        "\n",
        "    # Load full training and test data\n",
        "    full_train_data = load_conll_file(f\"{data_dir}/train.txt\")\n",
        "    test_data = load_conll_file(f\"{data_dir}/test.txt\")\n",
        "\n",
        "    # Split training data to get dev set for prompt tuning\n",
        "    if val_size > 0:\n",
        "        dev_data, _ = train_test_split(\n",
        "            full_train_data,\n",
        "            test_size=1 - val_size,\n",
        "            random_state=random_state\n",
        "        )\n",
        "        print(f\"Loaded {len(dev_data)} dev (prompt tuning) sentences\")\n",
        "    else:\n",
        "        dev_data = []\n",
        "\n",
        "    print(f\"Loaded {len(test_data)} test sentences for evaluation\")\n",
        "\n",
        "    return dev_data, test_data\n",
        "\n",
        "# Usage example\n",
        "dev_data, test_data = load_for_zero_shot_ner_with_pos(val_size=0.02)\n"
      ]
    },
    {
      "cell_type": "code",
      "execution_count": 8,
      "metadata": {
        "colab": {
          "base_uri": "https://localhost:8080/"
        },
        "id": "S0opZX8uOtGZ",
        "outputId": "b9f79e9f-0735-4da2-b1df-eb895f120e98"
      },
      "outputs": [
        {
          "name": "stdout",
          "output_type": "stream",
          "text": [
            "Collecting seqeval\n",
            "  Downloading seqeval-1.2.2.tar.gz (43 kB)\n",
            "\u001b[?25l     \u001b[90m━━━━━━━━━━━━━━━━━━━━━━━━━━━━━━━━━━━━━━━━\u001b[0m \u001b[32m0.0/43.6 kB\u001b[0m \u001b[31m?\u001b[0m eta \u001b[36m-:--:--\u001b[0m\r\u001b[2K     \u001b[90m━━━━━━━━━━━━━━━━━━━━━━━━━━━━━━━━━━━━━━━━\u001b[0m \u001b[32m43.6/43.6 kB\u001b[0m \u001b[31m1.6 MB/s\u001b[0m eta \u001b[36m0:00:00\u001b[0m\n",
            "\u001b[?25h  Preparing metadata (setup.py) ... \u001b[?25l\u001b[?25hdone\n",
            "Requirement already satisfied: numpy>=1.14.0 in /usr/local/lib/python3.11/dist-packages (from seqeval) (2.0.2)\n",
            "Requirement already satisfied: scikit-learn>=0.21.3 in /usr/local/lib/python3.11/dist-packages (from seqeval) (1.6.1)\n",
            "Requirement already satisfied: scipy>=1.6.0 in /usr/local/lib/python3.11/dist-packages (from scikit-learn>=0.21.3->seqeval) (1.15.3)\n",
            "Requirement already satisfied: joblib>=1.2.0 in /usr/local/lib/python3.11/dist-packages (from scikit-learn>=0.21.3->seqeval) (1.5.1)\n",
            "Requirement already satisfied: threadpoolctl>=3.1.0 in /usr/local/lib/python3.11/dist-packages (from scikit-learn>=0.21.3->seqeval) (3.6.0)\n",
            "Building wheels for collected packages: seqeval\n",
            "  Building wheel for seqeval (setup.py) ... \u001b[?25l\u001b[?25hdone\n",
            "  Created wheel for seqeval: filename=seqeval-1.2.2-py3-none-any.whl size=16162 sha256=f8c85fe5be64308671d9fc0d891d55c7367ed2854076f612c35c9ad739021b80\n",
            "  Stored in directory: /root/.cache/pip/wheels/bc/92/f0/243288f899c2eacdfa8c5f9aede4c71a9bad0ee26a01dc5ead\n",
            "Successfully built seqeval\n",
            "Installing collected packages: seqeval\n",
            "Successfully installed seqeval-1.2.2\n"
          ]
        }
      ],
      "source": [
        "!pip install seqeval\n"
      ]
    },
    {
      "cell_type": "markdown",
      "metadata": {
        "id": "OuX4p7xON9RA"
      },
      "source": [
        "#Lets see the structure of our dev_data and test_data\n"
      ]
    },
    {
      "cell_type": "code",
      "execution_count": 9,
      "metadata": {
        "colab": {
          "base_uri": "https://localhost:8080/"
        },
        "id": "0ih0evFnWUkb",
        "outputId": "7044a0d2-16f5-4a85-b751-fcf2ef618f25"
      },
      "outputs": [
        {
          "name": "stdout",
          "output_type": "stream",
          "text": [
            "\n",
            "📄 Prompt Tuning (Dev) Data (3 samples shown):\n",
            "--------------------------------------------------\n",
            "\n",
            "🔹 Sentence 1:\n",
            "Text: The Russians , working for the Aerostan firm in the Russian republic of Tatarstan , were taken hostage after a Taleban MiG-19 fighter forced their cargo plane to land in August 1995 .\n",
            "Tokens: ['The', 'Russians', ',', 'working', 'for', 'the', 'Aerostan', 'firm', 'in', 'the', 'Russian', 'republic', 'of', 'Tatarstan', ',', 'were', 'taken', 'hostage', 'after', 'a', 'Taleban', 'MiG-19', 'fighter', 'forced', 'their', 'cargo', 'plane', 'to', 'land', 'in', 'August', '1995', '.']\n",
            "POS Tags: ['DT', 'NNPS', ',', 'VBG', 'IN', 'DT', 'JJ', 'NN', 'IN', 'DT', 'JJ', 'NN', 'IN', 'NNP', ',', 'VBD', 'VBN', 'NN', 'IN', 'DT', 'NNP', 'NNP', 'NN', 'VBD', 'PRP$', 'NN', 'NN', 'TO', 'VB', 'IN', 'NNP', 'CD', '.']\n",
            "NER Tags: ['O', 'B-MISC', 'O', 'O', 'O', 'O', 'B-ORG', 'O', 'O', 'O', 'B-MISC', 'O', 'O', 'B-LOC', 'O', 'O', 'O', 'O', 'O', 'O', 'B-MISC', 'B-MISC', 'O', 'O', 'O', 'O', 'O', 'O', 'O', 'O', 'O', 'O', 'O']\n",
            "Entities:\n",
            "  - Russians [MISC]\n",
            "  - Aerostan [ORG]\n",
            "  - Russian [MISC]\n",
            "  - Tatarstan [LOC]\n",
            "  - Taleban [MISC]\n",
            "  - MiG-19 [MISC]\n",
            "\n",
            "🔹 Sentence 2:\n",
            "Text: Yeltsin on holiday from Monday - Interfax .\n",
            "Tokens: ['Yeltsin', 'on', 'holiday', 'from', 'Monday', '-', 'Interfax', '.']\n",
            "POS Tags: ['NN', 'IN', 'NN', 'IN', 'NNP', ':', 'NNP', '.']\n",
            "NER Tags: ['B-PER', 'O', 'O', 'O', 'O', 'O', 'B-ORG', 'O']\n",
            "Entities:\n",
            "  - Yeltsin [PER]\n",
            "  - Interfax [ORG]\n",
            "\n",
            "🔹 Sentence 3:\n",
            "Text: Zadar police said in a statement they had launched an investigation and were doing their best to find the perpetrators .\n",
            "Tokens: ['Zadar', 'police', 'said', 'in', 'a', 'statement', 'they', 'had', 'launched', 'an', 'investigation', 'and', 'were', 'doing', 'their', 'best', 'to', 'find', 'the', 'perpetrators', '.']\n",
            "POS Tags: ['NN', 'NN', 'VBD', 'IN', 'DT', 'NN', 'PRP', 'VBD', 'VBN', 'DT', 'NN', 'CC', 'VBD', 'VBG', 'PRP$', 'JJS', 'TO', 'VB', 'DT', 'NNS', '.']\n",
            "NER Tags: ['B-LOC', 'O', 'O', 'O', 'O', 'O', 'O', 'O', 'O', 'O', 'O', 'O', 'O', 'O', 'O', 'O', 'O', 'O', 'O', 'O', 'O']\n",
            "Entities:\n",
            "  - Zadar [LOC]\n",
            "\n",
            "📄 Evaluation (Test) Data (3 samples shown):\n",
            "--------------------------------------------------\n",
            "\n",
            "🔹 Sentence 1:\n",
            "Text: SOCCER - JAPAN GET LUCKY WIN , CHINA IN SURPRISE DEFEAT .\n",
            "Tokens: ['SOCCER', '-', 'JAPAN', 'GET', 'LUCKY', 'WIN', ',', 'CHINA', 'IN', 'SURPRISE', 'DEFEAT', '.']\n",
            "POS Tags: ['NN', ':', 'NNP', 'VB', 'NNP', 'NNP', ',', 'NNP', 'IN', 'DT', 'NN', '.']\n",
            "NER Tags: ['O', 'O', 'B-LOC', 'O', 'O', 'O', 'O', 'B-PER', 'O', 'O', 'O', 'O']\n",
            "Entities:\n",
            "  - JAPAN [LOC]\n",
            "  - CHINA [PER]\n",
            "\n",
            "🔹 Sentence 2:\n",
            "Text: Nadim Ladki\n",
            "Tokens: ['Nadim', 'Ladki']\n",
            "POS Tags: ['NNP', 'NNP']\n",
            "NER Tags: ['B-PER', 'I-PER']\n",
            "Entities:\n",
            "  - Nadim Ladki [PER]\n",
            "\n",
            "🔹 Sentence 3:\n",
            "Text: AL-AIN , United Arab Emirates 1996-12-06\n",
            "Tokens: ['AL-AIN', ',', 'United', 'Arab', 'Emirates', '1996-12-06']\n",
            "POS Tags: ['NNP', ',', 'NNP', 'NNP', 'NNPS', 'CD']\n",
            "NER Tags: ['B-LOC', 'O', 'B-LOC', 'I-LOC', 'I-LOC', 'O']\n",
            "Entities:\n",
            "  - AL-AIN [LOC]\n",
            "  - United Arab Emirates [LOC]\n"
          ]
        }
      ],
      "source": [
        "from seqeval.metrics.sequence_labeling import get_entities\n",
        "\n",
        "def display_ner_samples_with_pos(data, num_samples=3, title=\"Sample Sentences\"):\n",
        "    print(f\"\\n📄 {title} ({num_samples} samples shown):\\n\" + \"-\" * 50)\n",
        "\n",
        "    for i, sample in enumerate(data[:num_samples]):\n",
        "        tokens = sample['tokens']\n",
        "        pos_tags = sample.get('pos_tags', ['_'] * len(tokens))  # fallback if missing\n",
        "        tags = sample['tags']\n",
        "        sentence = \" \".join(tokens)\n",
        "        entities = get_entities(tags)  # list of (entity_type, start, end)\n",
        "\n",
        "        print(f\"\\n🔹 Sentence {i+1}:\")\n",
        "        print(\"Text:\", sentence)\n",
        "        print(\"Tokens:\", tokens)\n",
        "        print(\"POS Tags:\", pos_tags)\n",
        "        print(\"NER Tags:\", tags)\n",
        "\n",
        "        if entities:\n",
        "            print(\"Entities:\")\n",
        "            for ent_type, start, end in entities:\n",
        "                entity_text = \" \".join(tokens[start:end+1])\n",
        "                print(f\"  - {entity_text} [{ent_type}]\")\n",
        "        else:\n",
        "            print(\"Entities: None\")\n",
        "\n",
        "# Run display\n",
        "display_ner_samples_with_pos(dev_data, num_samples=3, title=\"Prompt Tuning (Dev) Data\")\n",
        "display_ner_samples_with_pos(test_data, num_samples=3, title=\"Evaluation (Test) Data\")\n"
      ]
    },
    {
      "cell_type": "markdown",
      "metadata": {
        "id": "N72mUtt0ZksC"
      },
      "source": [
        "#Our NER processing class\n"
      ]
    },
    {
      "cell_type": "code",
      "execution_count": 10,
      "metadata": {
        "id": "lj7xJ4TGZmUJ"
      },
      "outputs": [],
      "source": [
        "import requests\n",
        "import json\n",
        "import time\n",
        "from datetime import datetime\n",
        "from collections import defaultdict\n",
        "import spacy\n",
        "from sklearn.model_selection import train_test_split\n",
        "\n",
        "# ANSI color codes for error highlighting\n",
        "class Colors:\n",
        "    RED = '\\033[91m'\n",
        "    GREEN = '\\033[92m'\n",
        "    YELLOW = '\\033[93m'\n",
        "    BLUE = '\\033[94m'\n",
        "    ENDC = '\\033[0m'\n",
        "    BOLD = '\\033[1m'\n",
        "    UNDERLINE = '\\033[4m'\n",
        "\n",
        "# Load English language model for syntactic parsing\n",
        "nlp = spacy.load(\"en_core_web_sm\")\n",
        "\n",
        "class ConllNERProcessor:\n",
        "\n",
        "    def __init__(self, api_key='your_api_key'):\n",
        "        self.api_key = api_key\n",
        "        self.endpoint = \"https://generativelanguage.googleapis.com/v1beta/models/gemini-1.5-flash:generateContent\"\n",
        "        self.headers = {'Content-Type': 'application/json'}\n",
        "        self.request_count = 0\n",
        "        self.last_request_time = datetime.now()\n",
        "        self.entity_types = ['PER', 'ORG', 'LOC', 'MISC']\n",
        "        self.rate_limit = {\n",
        "            'requests_per_minute': 60,\n",
        "            'requests_per_batch': 15,\n",
        "            'batch_interval': 60  # seconds\n",
        "        }\n",
        "        # Enhanced backoff parameters\n",
        "        self.backoff_factor = 60\n",
        "        self.max_backoff = 320\n",
        "\n",
        "    def _rate_limit(self):\n",
        "        \"\"\"Enforce rate limiting with adaptive backoff\"\"\"\n",
        "        now = datetime.now()\n",
        "        elapsed = (now - self.last_request_time).total_seconds()\n",
        "\n",
        "        # Reset counter if more than batch interval has passed\n",
        "        if elapsed > self.rate_limit['batch_interval']:\n",
        "            self.request_count = 0\n",
        "            self.last_request_time = now\n",
        "            return\n",
        "\n",
        "        # Check if we need to wait\n",
        "        if self.request_count >= self.rate_limit['requests_per_batch']:\n",
        "            wait_time = self.rate_limit['batch_interval'] - elapsed\n",
        "            print(f\"{Colors.YELLOW}Rate limit: Waiting {wait_time:.1f} seconds...{Colors.ENDC}\")\n",
        "            time.sleep(wait_time)\n",
        "            self.request_count = 0\n",
        "            self.last_request_time = datetime.now()\n",
        "\n",
        "    def generate(self, prompt, temperature=0, max_retries=5):\n",
        "        \"\"\"Send prompt with enhanced rate limiting and retry logic\"\"\"\n",
        "        for attempt in range(max_retries):\n",
        "            try:\n",
        "                self._rate_limit()\n",
        "\n",
        "                params = {'key': self.api_key}\n",
        "                payload = {\n",
        "                    \"contents\": [{\n",
        "                        \"parts\": [{\n",
        "                            \"text\": prompt\n",
        "                        }]\n",
        "                    }],\n",
        "                    \"generationConfig\": {\n",
        "                        \"responseMimeType\": \"application/json\",\n",
        "                        \"temperature\": temperature\n",
        "                    }\n",
        "                }\n",
        "\n",
        "                response = requests.post(\n",
        "                    self.endpoint,\n",
        "                    params=params,\n",
        "                    headers=self.headers,\n",
        "                    json=payload,\n",
        "                    timeout=120  # Increased timeout\n",
        "                )\n",
        "\n",
        "                response.raise_for_status()\n",
        "                return response.json()\n",
        "\n",
        "            except requests.exceptions.HTTPError as e:\n",
        "                if e.response.status_code == 429:\n",
        "                    backoff = min(self.max_backoff, self.backoff_factor ** (attempt + 1))\n",
        "                    print(f\"{Colors.RED}Rate limited (429). Waiting {backoff}s...{Colors.ENDC}\")\n",
        "                    time.sleep(backoff)\n",
        "                    continue\n",
        "                print(f\"{Colors.RED}HTTP Error: {e}{Colors.ENDC}\")\n",
        "                return None\n",
        "            except requests.exceptions.Timeout:\n",
        "                print(f\"{Colors.RED}Request timeout. Retrying...{Colors.ENDC}\")\n",
        "                time.sleep(3)\n",
        "            except Exception as e:\n",
        "                print(f\"{Colors.RED}Attempt {attempt + 1} failed: {str(e)}{Colors.ENDC}\")\n",
        "                time.sleep(1)\n",
        "\n",
        "        print(f\"{Colors.RED}Failed after {max_retries} attempts{Colors.ENDC}\")\n",
        "        return None\n",
        "\n",
        "    def prepare_conll_example(self, sentence_data):\n",
        "        \"\"\"Convert CoNLL format to text with entity markers\"\"\"\n",
        "        tokens = sentence_data['tokens']\n",
        "        tags = sentence_data['tags']\n",
        "\n",
        "        # Convert BIO tags to entity spans\n",
        "        entities = []\n",
        "        current_entity = None\n",
        "        start_idx = 0\n",
        "\n",
        "        for i, tag in enumerate(tags):\n",
        "            if tag.startswith('B-'):\n",
        "                if current_entity is not None:\n",
        "                    entities.append((start_idx, i-1, current_entity))\n",
        "                current_entity = tag[2:]\n",
        "                start_idx = i\n",
        "            elif tag.startswith('I-'):\n",
        "                if current_entity is None or tag[2:] != current_entity:\n",
        "                    # Invalid tag sequence, treat as O\n",
        "                    if current_entity is not None:\n",
        "                        entities.append((start_idx, i-1, current_entity))\n",
        "                    current_entity = None\n",
        "            else:  # O\n",
        "                if current_entity is not None:\n",
        "                    entities.append((start_idx, i-1, current_entity))\n",
        "                    current_entity = None\n",
        "\n",
        "        if current_entity is not None:\n",
        "            entities.append((start_idx, len(tokens)-1, current_entity))\n",
        "\n",
        "        return tokens, entities\n",
        "\n",
        "    def evaluate_predictions(self, gold_data, pred_entities):\n",
        "        \"\"\"Calculate precision, recall, and F1 with detailed error analysis\"\"\"\n",
        "        true_pos = 0\n",
        "        false_pos = 0\n",
        "        false_neg = 0\n",
        "        error_details = []\n",
        "\n",
        "        for i, (gold, pred) in enumerate(zip(gold_data, pred_entities)):\n",
        "            gold_tokens, gold_ents = gold\n",
        "            gold_set = set((start, end, type) for start, end, type in gold_ents)\n",
        "            pred_set = set((start, end, type) for start, end, type in pred)\n",
        "\n",
        "            # Calculate metrics\n",
        "            tp = len(gold_set & pred_set)\n",
        "            fp = len(pred_set - gold_set)\n",
        "            fn = len(gold_set - pred_set)\n",
        "\n",
        "            true_pos += tp\n",
        "            false_pos += fp\n",
        "            false_neg += fn\n",
        "\n",
        "            # Store error details for visualization\n",
        "            if fp > 0 or fn > 0:\n",
        "                error_details.append({\n",
        "                    'index': i,\n",
        "                    'tokens': gold_tokens,\n",
        "                    'gold_entities': gold_ents,\n",
        "                    'pred_entities': pred,\n",
        "                    'tp': tp,\n",
        "                    'fp': fp,\n",
        "                    'fn': fn\n",
        "                })\n",
        "\n",
        "        precision = true_pos / (true_pos + false_pos) if (true_pos + false_pos) > 0 else 0\n",
        "        recall = true_pos / (true_pos + false_neg) if (true_pos + false_neg) > 0 else 0\n",
        "        f1 = 2 * (precision * recall) / (precision + recall) if (precision + recall) > 0 else 0\n",
        "\n",
        "        return {\n",
        "            'precision': precision,\n",
        "            'recall': recall,\n",
        "            'f1': f1,\n",
        "            'true_pos': true_pos,\n",
        "            'false_pos': false_pos,\n",
        "            'false_neg': false_neg,\n",
        "            'error_details': error_details\n",
        "        }\n",
        "\n",
        "    def visualize_errors(self, tokens, gold_ents, pred_ents):\n",
        "        \"\"\"Visualize errors with color highlighting\"\"\"\n",
        "        # Create token-level entity markers\n",
        "        gold_markers = [None] * len(tokens)\n",
        "        pred_markers = [None] * len(tokens)\n",
        "\n",
        "        # Mark gold entities\n",
        "        for start, end, etype in gold_ents:\n",
        "            for i in range(start, end + 1):\n",
        "                if i < len(tokens):\n",
        "                    gold_markers[i] = etype\n",
        "\n",
        "        # Mark predicted entities\n",
        "        for start, end, etype in pred_ents:\n",
        "            for i in range(start, end + 1):\n",
        "                if i < len(tokens):\n",
        "                    pred_markers[i] = etype\n",
        "\n",
        "        # Generate colored output\n",
        "        output = []\n",
        "        i = 0\n",
        "        while i < len(tokens):\n",
        "            # Check for matching entities\n",
        "            if gold_markers[i] == pred_markers[i] and gold_markers[i] is not None:\n",
        "                # Correct entity\n",
        "                start = i\n",
        "                entity_type = gold_markers[i]\n",
        "                while i < len(tokens) and gold_markers[i] == entity_type:\n",
        "                    i += 1\n",
        "                entity_text = \" \".join(tokens[start:i])\n",
        "                output.append(f\"{Colors.GREEN}[{entity_text}:{entity_type}]{Colors.ENDC}\")\n",
        "                continue\n",
        "\n",
        "            # Handle errors\n",
        "            if gold_markers[i] is not None:\n",
        "                # False negative (gold entity not predicted)\n",
        "                start = i\n",
        "                entity_type = gold_markers[i]\n",
        "                while i < len(tokens) and gold_markers[i] == entity_type:\n",
        "                    i += 1\n",
        "                entity_text = \" \".join(tokens[start:i])\n",
        "                output.append(f\"{Colors.RED}[{entity_text}:{entity_type}]{Colors.ENDC}\")\n",
        "                continue\n",
        "\n",
        "            if pred_markers[i] is not None:\n",
        "                # False positive (predicted entity not in gold)\n",
        "                start = i\n",
        "                entity_type = pred_markers[i]\n",
        "                while i < len(tokens) and pred_markers[i] == entity_type:\n",
        "                    i += 1\n",
        "                entity_text = \" \".join(tokens[start:i])\n",
        "                output.append(f\"{Colors.BLUE}[{entity_text}:{entity_type}]{Colors.ENDC}\")\n",
        "                continue\n",
        "\n",
        "            # No entity\n",
        "            output.append(tokens[i])\n",
        "            i += 1\n",
        "\n",
        "        return \" \".join(output)\n",
        "\n",
        "    def _parse_response(self, response):\n",
        "        \"\"\"More robust response parsing\"\"\"\n",
        "        try:\n",
        "            content = response['candidates'][0]['content']['parts'][0]['text']\n",
        "\n",
        "            # Clean response - sometimes Gemini adds extra text\n",
        "            json_start = content.find('[')\n",
        "            json_end = content.rfind(']') + 1\n",
        "\n",
        "            if json_start == -1 or json_end == 0:\n",
        "                return []\n",
        "\n",
        "            entities = json.loads(content[json_start:json_end])\n",
        "\n",
        "            # Validate entities format\n",
        "            valid_entities = []\n",
        "            for entity in entities:\n",
        "                if isinstance(entity, list) and len(entity) == 2:\n",
        "                    if isinstance(entity[0], str) and isinstance(entity[1], str):\n",
        "                        valid_entities.append(entity)\n",
        "            return valid_entities\n",
        "\n",
        "        except Exception as e:\n",
        "            print(f\"{Colors.RED}Error parsing response: {e}{Colors.ENDC}\")\n",
        "            return []\n",
        "\n",
        "    def _find_token_spans(self, sentence_tokens, entity_tokens):\n",
        "        \"\"\"Find all possible spans matching entity tokens in sentence\"\"\"\n",
        "        matches = []\n",
        "        sentence_len = len(sentence_tokens)\n",
        "        entity_len = len(entity_tokens)\n",
        "\n",
        "        for i in range(sentence_len - entity_len + 1):\n",
        "            match = True\n",
        "            for j in range(entity_len):\n",
        "                if sentence_tokens[i+j].lower() != entity_tokens[j].lower():\n",
        "                    match = False\n",
        "                    break\n",
        "            if match:\n",
        "                matches.append((i, i+entity_len-1))\n",
        "\n",
        "        return matches\n",
        "\n",
        "    def evaluate_method(self, method_name, dataset, sample_size=None, max_errors=10):\n",
        "        \"\"\"Evaluate a method on a dataset with progress tracking and error visualization\"\"\"\n",
        "        if sample_size:\n",
        "            dataset = dataset[:sample_size]\n",
        "\n",
        "        results = []\n",
        "        start_time = time.time()\n",
        "\n",
        "        # Prepare gold data with tokens\n",
        "        gold_data = []\n",
        "        for sample in dataset:\n",
        "            tokens, entities = self.prepare_conll_example(sample)\n",
        "            gold_data.append((tokens, entities))\n",
        "\n",
        "        for i, sample in enumerate(dataset):\n",
        "            print(f\"\\rProcessing {i+1}/{len(dataset)}...\", end=\"\", flush=True)\n",
        "\n",
        "            if method_name == 'decomposed_qa':\n",
        "                pred = self.decomposed_qa(sample)\n",
        "            elif method_name == 'tool_augmented':\n",
        "                pred = self.tool_augmented(sample)\n",
        "            elif method_name == 'self_consistency':\n",
        "                pred = self.self_consistency(sample)\n",
        "            else:\n",
        "                raise ValueError(f\"Unknown method: {method_name}\")\n",
        "\n",
        "            results.append(pred)\n",
        "\n",
        "        # Evaluate predictions\n",
        "        metrics = self.evaluate_predictions(gold_data, results)\n",
        "\n",
        "        print(f\"\\n\\n{Colors.BOLD}{method_name} evaluation completed in {time.time()-start_time:.1f}s{Colors.ENDC}\")\n",
        "        print(f\"{Colors.BOLD}Precision: {metrics['precision']:.3f}{Colors.ENDC}\")\n",
        "        print(f\"{Colors.BOLD}Recall: {metrics['recall']:.3f}{Colors.ENDC}\")\n",
        "        print(f\"{Colors.BOLD}F1: {metrics['f1']:.3f}{Colors.ENDC}\")\n",
        "        print(f\"True Positives: {metrics['true_pos']}\")\n",
        "        print(f\"False Positives: {metrics['false_pos']}\")\n",
        "        print(f\"False Negatives: {metrics['false_neg']}\")\n",
        "\n",
        "        # Display error details\n",
        "        error_details = metrics['error_details']\n",
        "        if error_details:\n",
        "            print(f\"\\n{Colors.UNDERLINE}Error Samples (showing first {min(max_errors, len(error_details))}):{Colors.ENDC}\")\n",
        "            for error in error_details[:max_errors]:\n",
        "                print(f\"\\n{Colors.BOLD}Sentence #{error['index']+1}{Colors.ENDC}\")\n",
        "                print(f\"True Positives: {error['tp']}, False Positives: {error['fp']}, False Negatives: {error['fn']}\")\n",
        "\n",
        "                # Visualize errors\n",
        "                visualization = self.visualize_errors(\n",
        "                    error['tokens'],\n",
        "                    error['gold_entities'],\n",
        "                    error['pred_entities']\n",
        "                )\n",
        "                print(\"Text with entities:\")\n",
        "                print(visualization)\n",
        "\n",
        "                # Print entity lists\n",
        "                print(\"\\nGold Entities:\")\n",
        "                for start, end, etype in error['gold_entities']:\n",
        "                    entity_text = \" \".join(error['tokens'][start:end+1])\n",
        "                    print(f\"- [{entity_text}:{etype}]\")\n",
        "\n",
        "                print(\"\\nPredicted Entities:\")\n",
        "                for start, end, etype in error['pred_entities']:\n",
        "                    entity_text = \" \".join(error['tokens'][start:end+1])\n",
        "                    print(f\"- [{entity_text}:{etype}]\")\n",
        "\n",
        "                print(\"\\n\" + \"-\"*50)\n",
        "        else:\n",
        "            print(f\"\\n{Colors.GREEN}No errors found!{Colors.ENDC}\")\n",
        "\n",
        "        return metrics\n",
        "\n",
        "\n"
      ]
    },
    {
      "cell_type": "markdown",
      "metadata": {
        "id": "12jQk10Ku7dP"
      },
      "source": [
        "#Methods"
      ]
    },
    {
      "cell_type": "markdown",
      "metadata": {
        "id": "U5yx41mQZ_EM"
      },
      "source": [
        "**Decompose QA**\n",
        "\n",
        "The paper's decomposed QA uses multi-turn dialogues processing one entity type per turn, with ChatGPT-determined label orders and accumulated context between turns. This sequential approach reduces ambiguity for nested entities but requires multiple API calls. Our implementation collapses this into a single-turn extraction where all entity types are identified simultaneously using a fixed label order and JSON output format. While faster with one API call, it lacks inter-label context and may struggle with complex entity interactions, though both methods share the core decomposition philosophy of isolating entity recognition tasks.\n",
        "I saw an increase in F1 score(~0.3) with the single turn method I implemented below, compared to the one that was used in the Paper. Additionaly the cost was reduced 3 times. From 5 requests per minutes to 15 request per minute per sentence."
      ]
    },
    {
      "cell_type": "code",
      "execution_count": 11,
      "metadata": {
        "id": "7g9V5b7yyUiC"
      },
      "outputs": [],
      "source": [
        "def decomposed_qa(self, sentence_data):\n",
        "    tokens, _ = self.prepare_conll_example(sentence_data)\n",
        "    text = \" \".join(tokens)\n",
        "\n",
        "    prompt = f\"\"\"Identify all entities in this text following CoNLL-2003 NER guidelines.\n",
        "Entity types: {', '.join(self.entity_types)}\n",
        "\n",
        "Text: \"{text}\"\n",
        "\n",
        "Instructions:\n",
        "- Extract ALL entity types in one pass\n",
        "- Return list of entities in format: [[\"entity text\", \"TYPE\"]]\n",
        "- Only return the JSON list, nothing else\n",
        "\n",
        "Entities:\"\"\"\n",
        "\n",
        "    response = self.generate(prompt)\n",
        "    if not response:\n",
        "        return []\n",
        "\n",
        "    entities = self._parse_response(response)\n",
        "    results = []\n",
        "    for entity_text, entity_type in entities:\n",
        "        if entity_type not in self.entity_types:\n",
        "            continue\n",
        "\n",
        "        entity_tokens = entity_text.split()\n",
        "        matches = self._find_token_spans(sentence_data['tokens'], entity_tokens)\n",
        "        for start, end in matches:\n",
        "            results.append((start, end, entity_type))\n",
        "\n",
        "    return results\n",
        "ConllNERProcessor.decomposed_qa = decomposed_qa\n",
        "\n"
      ]
    },
    {
      "cell_type": "markdown",
      "metadata": {
        "id": "_zDjnEFva6_S"
      },
      "source": [
        "**Tool Augmented Comparison**\n",
        "\n",
        "The paper combines syntactic parsing with decomposed QA, using HanLP-generated features (POS/dependency/constituency trees) and explicit reasoning prompts. It employs noun phrases and domain-specific label orders for technical datasets. Our enhanced tool augmentation maintains single-turn execution while incorporating spaCy-generated POS/dependency tags and noun phrases, with a structured prompt directing syntactic analysis before extraction. Though both leverage external parsers, our approach consolidates syntax into one prompt section rather than per-label decomposition, trading some granularity for efficiency while adopting the paper's \"analyze then extract\" logic."
      ]
    },
    {
      "cell_type": "code",
      "execution_count": 12,
      "metadata": {
        "id": "qOqj98xPd1f1"
      },
      "outputs": [],
      "source": [
        "def tool_augmented(self, sentence_data):\n",
        "        tokens, _ = self.prepare_conll_example(sentence_data)\n",
        "        text = \" \".join(tokens)\n",
        "\n",
        "        # Generate syntactic information\n",
        "        doc = nlp(text)\n",
        "        pos_tags = [(token.text, token.pos_) for token in doc]\n",
        "        dep_tags = [(token.text, token.dep_) for token in doc]\n",
        "\n",
        "        prompt = f\"\"\"Perform CoNLL-2003 NER with syntactic information:\n",
        "\n",
        "Text: \"{text}\"\n",
        "POS tags: {pos_tags}\n",
        "Dependency tags: {dep_tags}\n",
        "Entity types: {self.entity_types}\n",
        "\n",
        "Instructions:\n",
        "1. Analyze syntactic structure first\n",
        "2. Identify entities based on text and syntax\n",
        "3. Return list in format: [[\"entity text\", \"TYPE\"]]\n",
        "4. Only return the JSON list, nothing else\n",
        "\n",
        "Entities:\"\"\"\n",
        "\n",
        "        response = self.generate(prompt)\n",
        "        if not response:\n",
        "            return []\n",
        "\n",
        "        entities = self._parse_response(response)\n",
        "        results = []\n",
        "        for entity_text, entity_type in entities:\n",
        "            if entity_type not in self.entity_types:\n",
        "                continue\n",
        "\n",
        "            tokens = entity_text.split()\n",
        "            if len(tokens) == 0:\n",
        "                continue\n",
        "\n",
        "            matches = self._find_token_spans(sentence_data['tokens'], tokens)\n",
        "            for start, end in matches:\n",
        "                results.append((start, end, entity_type))\n",
        "        return results\n",
        "\n",
        "ConllNERProcessor.tool_augmented = tool_augmented\n",
        "\n"
      ]
    },
    {
      "cell_type": "code",
      "execution_count": 13,
      "metadata": {
        "id": "A_yBSsHt2lW_"
      },
      "outputs": [],
      "source": [
        "# Helper method for entity processing\n",
        "def _process_entities(self, response, original_tokens):\n",
        "    entities = self._parse_response(response)\n",
        "    results = []\n",
        "    for entity_text, entity_type in entities:\n",
        "        if entity_type not in self.entity_types:\n",
        "            continue\n",
        "\n",
        "        entity_tokens = entity_text.split()\n",
        "        matches = self._find_token_spans(original_tokens, entity_tokens)\n",
        "        for start, end in matches:\n",
        "            results.append((start, end, entity_type))\n",
        "    return results\n",
        "ConllNERProcessor._process_entities = _process_entities"
      ]
    },
    {
      "cell_type": "markdown",
      "metadata": {
        "id": "vrDjdZIGbHl9"
      },
      "source": [
        "**Self-Consistency Comparison**\n",
        "\n",
        "The paper implements two-stage voting at question-level (per entity type) or sample-level (full dialogue), using 5-7 samples with adaptive backoff and special nested entity handling. Our modified self-consistency preserves single-turn execution but adopts strict two-stage voting: mentions must exceed 50% agreement across 5 samples before type voting, with mention normalization to avoid duplicates. While lacking the paper's per-label voting, we mirror its >50% thresholds and duplicate prevention, focusing vote aggregation at the sample level rather than decomposed question-level for faster execution."
      ]
    },
    {
      "cell_type": "code",
      "execution_count": 14,
      "metadata": {
        "id": "kOmq9-H5a_hM"
      },
      "outputs": [],
      "source": [
        "def self_consistency(self, sentence_data, num_samples=3):\n",
        "        \"\"\"Self-Consistency with two-stage voting for CoNLL data\"\"\"\n",
        "        tokens, _ = self.prepare_conll_example(sentence_data)\n",
        "        text = \" \".join(tokens)\n",
        "        prompt = f\"\"\"Perform CoNLL-2003 NER with these entity types: {self.entity_types}\n",
        "\n",
        "Text: \"{text}\"\n",
        "\n",
        "Instructions:\n",
        "- Extract entities matching the types\n",
        "- Return list in format: [[\"entity text\", \"TYPE\"]]\n",
        "- Only return the JSON list, nothing else\n",
        "\n",
        "Entities:\"\"\"\n",
        "\n",
        "        # Stage 1: Generate multiple responses\n",
        "        responses = []\n",
        "        for _ in range(num_samples):\n",
        "            response = self.generate(prompt, temperature=0.7)\n",
        "            if response:\n",
        "                entities = self._parse_response(response)\n",
        "                responses.append(entities)\n",
        "\n",
        "        if not responses:\n",
        "            return []\n",
        "\n",
        "        # Stage 2: Two-stage majority voting\n",
        "        # First stage: Vote for mentions\n",
        "        mention_votes = defaultdict(int)\n",
        "        mention_type_map = defaultdict(lambda: defaultdict(int))\n",
        "\n",
        "        for response in responses:\n",
        "            for entity_text, entity_type in response:\n",
        "                mention_votes[entity_text] += 1\n",
        "                mention_type_map[entity_text][entity_type] += 1\n",
        "\n",
        "        # Keep mentions that appear in >50% of responses\n",
        "        threshold = num_samples / 2\n",
        "        selected_mentions = [m for m, cnt in mention_votes.items() if cnt > threshold]\n",
        "\n",
        "        # Second stage: Vote for types\n",
        "        results = []\n",
        "        for mention in selected_mentions:\n",
        "            if mention not in mention_type_map:\n",
        "                continue\n",
        "\n",
        "            # Get most voted type for this mention\n",
        "            selected_type = max(mention_type_map[mention].items(), key=lambda x: x[1])[0]\n",
        "            if selected_type not in self.entity_types:\n",
        "                continue\n",
        "\n",
        "            # Convert to token spans\n",
        "            tokens = mention.split()\n",
        "            matches = self._find_token_spans(sentence_data['tokens'], tokens)\n",
        "            for start, end in matches:\n",
        "                results.append((start, end, selected_type))\n",
        "\n",
        "        return results\n",
        "\n",
        "ConllNERProcessor.self_consistency = self_consistency\n"
      ]
    },
    {
      "cell_type": "markdown",
      "metadata": {
        "id": "Jt7hOfPzZr_P"
      },
      "source": [
        "#Evaluation\n",
        "\n",
        "Color-Coding Legend\n",
        "\n",
        "Green - Correct Prediction (True Positive)\t      [U.N.:ORG] (Correctly tagged as ORG)\n",
        "\n",
        "Red – Gold entity not predicted\t           [Paris:LOC] (Gold says LOC, but model missed it)\n",
        "\n",
        "Blue - Incorrect Prediction (False Positive) – Model predicted a wrong tag\t                       [official:PER] (Gold says O, model predicted PER)\n",
        "\n",
        "Default - Non-entity tokens (O tags)\t   meets (Correctly ignored)\n",
        "\n",
        "\n",
        "Important: With gemini 1.5 flash it will take arround 15 minutes to complete for 50 sentences. For more than 50 sentences it will hit the daily rate limit for the free tier API(which was used here for developing the methods and testing).\n",
        "\n"
      ]
    },
    {
      "cell_type": "markdown",
      "metadata": {
        "id": "NsCr_WldfZQ2"
      },
      "source": [
        "#Testing phase\n"
      ]
    },
    {
      "cell_type": "code",
      "execution_count": 15,
      "metadata": {
        "colab": {
          "base_uri": "https://localhost:8080/",
          "height": 599
        },
        "id": "UdOmU098ZvNY",
        "outputId": "83608e0d-d25b-4ff5-a18a-24ca78968311"
      },
      "outputs": [
        {
          "data": {
            "text/html": [
              "<span style=\"color:blue; font-weight:bold\">Loading dataset...</span>"
            ],
            "text/plain": [
              "<IPython.core.display.HTML object>"
            ]
          },
          "metadata": {},
          "output_type": "display_data"
        },
        {
          "data": {
            "text/html": [
              "<span style=\"color:green; font-weight:bold\">\n",
              "=== Evaluating Methods ===</span>"
            ],
            "text/plain": [
              "<IPython.core.display.HTML object>"
            ]
          },
          "metadata": {},
          "output_type": "display_data"
        },
        {
          "data": {
            "text/html": [
              "<span style=\"color:blue; font-weight:normal\">Using 4 samples from validation set</span>"
            ],
            "text/plain": [
              "<IPython.core.display.HTML object>"
            ]
          },
          "metadata": {},
          "output_type": "display_data"
        },
        {
          "data": {
            "text/html": [
              "<span style=\"color:darkblue; font-weight:bold\">\n",
              "▶ Evaluating Decomposed-QA...</span>"
            ],
            "text/plain": [
              "<IPython.core.display.HTML object>"
            ]
          },
          "metadata": {},
          "output_type": "display_data"
        },
        {
          "name": "stdout",
          "output_type": "stream",
          "text": [
            "Processing 3/4...\u001b[91mRate limited (429). Waiting 60s...\u001b[0m\n",
            "\u001b[91mRate limited (429). Waiting 320s...\u001b[0m\n",
            "\u001b[91mRate limited (429). Waiting 320s...\u001b[0m\n",
            "\u001b[91mRate limited (429). Waiting 320s...\u001b[0m\n",
            "Processing 4/4...\u001b[91mRate limited (429). Waiting 60s...\u001b[0m\n",
            "\u001b[91mRate limited (429). Waiting 320s...\u001b[0m\n"
          ]
        },
        {
          "ename": "KeyboardInterrupt",
          "evalue": "",
          "output_type": "error",
          "traceback": [
            "\u001b[0;31m---------------------------------------------------------------------------\u001b[0m",
            "\u001b[0;31mHTTPError\u001b[0m                                 Traceback (most recent call last)",
            "\u001b[0;32m<ipython-input-10-598624599>\u001b[0m in \u001b[0;36mgenerate\u001b[0;34m(self, prompt, temperature, max_retries)\u001b[0m\n\u001b[1;32m     85\u001b[0m \u001b[0;34m\u001b[0m\u001b[0m\n\u001b[0;32m---> 86\u001b[0;31m                 \u001b[0mresponse\u001b[0m\u001b[0;34m.\u001b[0m\u001b[0mraise_for_status\u001b[0m\u001b[0;34m(\u001b[0m\u001b[0;34m)\u001b[0m\u001b[0;34m\u001b[0m\u001b[0;34m\u001b[0m\u001b[0m\n\u001b[0m\u001b[1;32m     87\u001b[0m                 \u001b[0;32mreturn\u001b[0m \u001b[0mresponse\u001b[0m\u001b[0;34m.\u001b[0m\u001b[0mjson\u001b[0m\u001b[0;34m(\u001b[0m\u001b[0;34m)\u001b[0m\u001b[0;34m\u001b[0m\u001b[0;34m\u001b[0m\u001b[0m\n",
            "\u001b[0;32m/usr/local/lib/python3.11/dist-packages/requests/models.py\u001b[0m in \u001b[0;36mraise_for_status\u001b[0;34m(self)\u001b[0m\n\u001b[1;32m   1023\u001b[0m         \u001b[0;32mif\u001b[0m \u001b[0mhttp_error_msg\u001b[0m\u001b[0;34m:\u001b[0m\u001b[0;34m\u001b[0m\u001b[0;34m\u001b[0m\u001b[0m\n\u001b[0;32m-> 1024\u001b[0;31m             \u001b[0;32mraise\u001b[0m \u001b[0mHTTPError\u001b[0m\u001b[0;34m(\u001b[0m\u001b[0mhttp_error_msg\u001b[0m\u001b[0;34m,\u001b[0m \u001b[0mresponse\u001b[0m\u001b[0;34m=\u001b[0m\u001b[0mself\u001b[0m\u001b[0;34m)\u001b[0m\u001b[0;34m\u001b[0m\u001b[0;34m\u001b[0m\u001b[0m\n\u001b[0m\u001b[1;32m   1025\u001b[0m \u001b[0;34m\u001b[0m\u001b[0m\n",
            "\u001b[0;31mHTTPError\u001b[0m: 429 Client Error: Too Many Requests for url: https://generativelanguage.googleapis.com/v1beta/models/gemini-1.5-flash:generateContent?key=yout_api_key",
            "\nDuring handling of the above exception, another exception occurred:\n",
            "\u001b[0;31mKeyboardInterrupt\u001b[0m                         Traceback (most recent call last)",
            "\u001b[0;32m<ipython-input-15-1678921160>\u001b[0m in \u001b[0;36m<cell line: 0>\u001b[0;34m()\u001b[0m\n\u001b[1;32m     30\u001b[0m     \u001b[0;31m# 1. Decomposed-QA\u001b[0m\u001b[0;34m\u001b[0m\u001b[0;34m\u001b[0m\u001b[0m\n\u001b[1;32m     31\u001b[0m     \u001b[0mdisplay_style\u001b[0m\u001b[0;34m(\u001b[0m\u001b[0;34m\"\\n▶ Evaluating Decomposed-QA...\"\u001b[0m\u001b[0;34m,\u001b[0m \u001b[0mcolor\u001b[0m\u001b[0;34m=\u001b[0m\u001b[0;34m'darkblue'\u001b[0m\u001b[0;34m,\u001b[0m \u001b[0mweight\u001b[0m\u001b[0;34m=\u001b[0m\u001b[0;34m'bold'\u001b[0m\u001b[0;34m)\u001b[0m\u001b[0;34m\u001b[0m\u001b[0;34m\u001b[0m\u001b[0m\n\u001b[0;32m---> 32\u001b[0;31m     \u001b[0mdecomposed_metrics\u001b[0m \u001b[0;34m=\u001b[0m \u001b[0mner_processor\u001b[0m\u001b[0;34m.\u001b[0m\u001b[0mevaluate_method\u001b[0m\u001b[0;34m(\u001b[0m\u001b[0;34m'decomposed_qa'\u001b[0m\u001b[0;34m,\u001b[0m \u001b[0meval_subset\u001b[0m\u001b[0;34m,\u001b[0m \u001b[0mmax_errors\u001b[0m\u001b[0;34m=\u001b[0m\u001b[0;36m3\u001b[0m\u001b[0;34m)\u001b[0m\u001b[0;34m\u001b[0m\u001b[0;34m\u001b[0m\u001b[0m\n\u001b[0m\u001b[1;32m     33\u001b[0m     results.append({\n\u001b[1;32m     34\u001b[0m         \u001b[0;34m'Method'\u001b[0m\u001b[0;34m:\u001b[0m \u001b[0;34m'Decomposed-QA'\u001b[0m\u001b[0;34m,\u001b[0m\u001b[0;34m\u001b[0m\u001b[0;34m\u001b[0m\u001b[0m\n",
            "\u001b[0;32m<ipython-input-10-598624599>\u001b[0m in \u001b[0;36mevaluate_method\u001b[0;34m(self, method_name, dataset, sample_size, max_errors)\u001b[0m\n\u001b[1;32m    305\u001b[0m \u001b[0;34m\u001b[0m\u001b[0m\n\u001b[1;32m    306\u001b[0m             \u001b[0;32mif\u001b[0m \u001b[0mmethod_name\u001b[0m \u001b[0;34m==\u001b[0m \u001b[0;34m'decomposed_qa'\u001b[0m\u001b[0;34m:\u001b[0m\u001b[0;34m\u001b[0m\u001b[0;34m\u001b[0m\u001b[0m\n\u001b[0;32m--> 307\u001b[0;31m                 \u001b[0mpred\u001b[0m \u001b[0;34m=\u001b[0m \u001b[0mself\u001b[0m\u001b[0;34m.\u001b[0m\u001b[0mdecomposed_qa\u001b[0m\u001b[0;34m(\u001b[0m\u001b[0msample\u001b[0m\u001b[0;34m)\u001b[0m\u001b[0;34m\u001b[0m\u001b[0;34m\u001b[0m\u001b[0m\n\u001b[0m\u001b[1;32m    308\u001b[0m             \u001b[0;32melif\u001b[0m \u001b[0mmethod_name\u001b[0m \u001b[0;34m==\u001b[0m \u001b[0;34m'tool_augmented'\u001b[0m\u001b[0;34m:\u001b[0m\u001b[0;34m\u001b[0m\u001b[0;34m\u001b[0m\u001b[0m\n\u001b[1;32m    309\u001b[0m                 \u001b[0mpred\u001b[0m \u001b[0;34m=\u001b[0m \u001b[0mself\u001b[0m\u001b[0;34m.\u001b[0m\u001b[0mtool_augmented\u001b[0m\u001b[0;34m(\u001b[0m\u001b[0msample\u001b[0m\u001b[0;34m)\u001b[0m\u001b[0;34m\u001b[0m\u001b[0;34m\u001b[0m\u001b[0m\n",
            "\u001b[0;32m<ipython-input-11-1836365948>\u001b[0m in \u001b[0;36mdecomposed_qa\u001b[0;34m(self, sentence_data)\u001b[0m\n\u001b[1;32m     15\u001b[0m Entities:\"\"\"\n\u001b[1;32m     16\u001b[0m \u001b[0;34m\u001b[0m\u001b[0m\n\u001b[0;32m---> 17\u001b[0;31m     \u001b[0mresponse\u001b[0m \u001b[0;34m=\u001b[0m \u001b[0mself\u001b[0m\u001b[0;34m.\u001b[0m\u001b[0mgenerate\u001b[0m\u001b[0;34m(\u001b[0m\u001b[0mprompt\u001b[0m\u001b[0;34m)\u001b[0m\u001b[0;34m\u001b[0m\u001b[0;34m\u001b[0m\u001b[0m\n\u001b[0m\u001b[1;32m     18\u001b[0m     \u001b[0;32mif\u001b[0m \u001b[0;32mnot\u001b[0m \u001b[0mresponse\u001b[0m\u001b[0;34m:\u001b[0m\u001b[0;34m\u001b[0m\u001b[0;34m\u001b[0m\u001b[0m\n\u001b[1;32m     19\u001b[0m         \u001b[0;32mreturn\u001b[0m \u001b[0;34m[\u001b[0m\u001b[0;34m]\u001b[0m\u001b[0;34m\u001b[0m\u001b[0;34m\u001b[0m\u001b[0m\n",
            "\u001b[0;32m<ipython-input-10-598624599>\u001b[0m in \u001b[0;36mgenerate\u001b[0;34m(self, prompt, temperature, max_retries)\u001b[0m\n\u001b[1;32m     91\u001b[0m                     \u001b[0mbackoff\u001b[0m \u001b[0;34m=\u001b[0m \u001b[0mmin\u001b[0m\u001b[0;34m(\u001b[0m\u001b[0mself\u001b[0m\u001b[0;34m.\u001b[0m\u001b[0mmax_backoff\u001b[0m\u001b[0;34m,\u001b[0m \u001b[0mself\u001b[0m\u001b[0;34m.\u001b[0m\u001b[0mbackoff_factor\u001b[0m \u001b[0;34m**\u001b[0m \u001b[0;34m(\u001b[0m\u001b[0mattempt\u001b[0m \u001b[0;34m+\u001b[0m \u001b[0;36m1\u001b[0m\u001b[0;34m)\u001b[0m\u001b[0;34m)\u001b[0m\u001b[0;34m\u001b[0m\u001b[0;34m\u001b[0m\u001b[0m\n\u001b[1;32m     92\u001b[0m                     \u001b[0mprint\u001b[0m\u001b[0;34m(\u001b[0m\u001b[0;34mf\"{Colors.RED}Rate limited (429). Waiting {backoff}s...{Colors.ENDC}\"\u001b[0m\u001b[0;34m)\u001b[0m\u001b[0;34m\u001b[0m\u001b[0;34m\u001b[0m\u001b[0m\n\u001b[0;32m---> 93\u001b[0;31m                     \u001b[0mtime\u001b[0m\u001b[0;34m.\u001b[0m\u001b[0msleep\u001b[0m\u001b[0;34m(\u001b[0m\u001b[0mbackoff\u001b[0m\u001b[0;34m)\u001b[0m\u001b[0;34m\u001b[0m\u001b[0;34m\u001b[0m\u001b[0m\n\u001b[0m\u001b[1;32m     94\u001b[0m                     \u001b[0;32mcontinue\u001b[0m\u001b[0;34m\u001b[0m\u001b[0;34m\u001b[0m\u001b[0m\n\u001b[1;32m     95\u001b[0m                 \u001b[0mprint\u001b[0m\u001b[0;34m(\u001b[0m\u001b[0;34mf\"{Colors.RED}HTTP Error: {e}{Colors.ENDC}\"\u001b[0m\u001b[0;34m)\u001b[0m\u001b[0;34m\u001b[0m\u001b[0;34m\u001b[0m\u001b[0m\n",
            "\u001b[0;31mKeyboardInterrupt\u001b[0m: "
          ]
        }
      ],
      "source": [
        "if __name__ == \"__main__\":\n",
        "    from IPython.display import display, HTML\n",
        "    import pandas as pd\n",
        "\n",
        "    # Display setup for Jupyter\n",
        "    def display_style(text, color='black', weight='normal'):\n",
        "        display(HTML(f'<span style=\"color:{color}; font-weight:{weight}\">{text}</span>'))\n",
        "\n",
        "    # Load dataset\n",
        "    display_style(\"Loading dataset...\", color='blue', weight='bold')\n",
        "    train_data, val_data, test_data = dev_data, dev_data, dev_data\n",
        "\n",
        "    # Initialize processor with your API key for Gemini 1.5 flash\n",
        "    ner_processor = ConllNERProcessor(api_key='your_api_key')\n",
        "\n",
        "\n",
        "\n",
        "    #******************This was used for prompt tuning the mehtods*****************\n",
        "    eval_subset = dev_data[1:5]# Start with 10 samples\n",
        "\n",
        "    #******************This was used for evaluation******************\n",
        "    #eval_subset = test_data[141:191]  # testing with 50 samples\n",
        "\n",
        "    display_style(\"\\n=== Evaluating Methods ===\", color='green', weight='bold')\n",
        "    display_style(f\"Using {len(eval_subset)} samples from validation set\", color='blue')\n",
        "\n",
        "    # Results storage\n",
        "    results = []\n",
        "\n",
        "    # 1. Decomposed-QA\n",
        "    display_style(\"\\n▶ Evaluating Decomposed-QA...\", color='darkblue', weight='bold')\n",
        "    decomposed_metrics = ner_processor.evaluate_method('decomposed_qa', eval_subset, max_errors=3)\n",
        "    results.append({\n",
        "        'Method': 'Decomposed-QA',\n",
        "        'Precision': decomposed_metrics['precision'],\n",
        "        'Recall': decomposed_metrics['recall'],\n",
        "        'F1': decomposed_metrics['f1'],\n",
        "        'TP': decomposed_metrics['true_pos'],\n",
        "        'FP': decomposed_metrics['false_pos'],\n",
        "        'FN': decomposed_metrics['false_neg']\n",
        "    })\n",
        "\n",
        "    # 2. Tool Augmentation\n",
        "    display_style(\"\\n▶ Evaluating Tool Augmentation...\", color='darkblue', weight='bold')\n",
        "    tool_metrics = ner_processor.evaluate_method('tool_augmented', eval_subset, max_errors=3)\n",
        "    results.append({\n",
        "        'Method': 'Tool Augmented',\n",
        "        'Precision': tool_metrics['precision'],\n",
        "        'Recall': tool_metrics['recall'],\n",
        "        'F1': tool_metrics['f1'],\n",
        "        'TP': tool_metrics['true_pos'],\n",
        "        'FP': tool_metrics['false_pos'],\n",
        "        'FN': tool_metrics['false_neg']\n",
        "    })\n",
        "\n",
        "    # 3. Self-Consistency\n",
        "    display_style(\"\\n▶ Evaluating Self-Consistency...\", color='darkblue', weight='bold')\n",
        "    sc_metrics = ner_processor.evaluate_method('self_consistency', eval_subset, max_errors=3)\n",
        "    results.append({\n",
        "        'Method': 'Self-Consistency',\n",
        "        'Precision': sc_metrics['precision'],\n",
        "        'Recall': sc_metrics['recall'],\n",
        "        'F1': sc_metrics['f1'],\n",
        "        'TP': sc_metrics['true_pos'],\n",
        "        'FP': sc_metrics['false_pos'],\n",
        "        'FN': sc_metrics['false_neg']\n",
        "    })\n",
        "\n",
        "    # Create and display summary table\n",
        "    df = pd.DataFrame(results)\n",
        "    df.set_index('Method', inplace=True)\n",
        "\n",
        "    display_style(\"\\n=== Summary Results ===\", color='green', weight='bold')\n",
        "\n",
        "    # Main metrics table\n",
        "    styled_df1 = (df[['Precision', 'Recall', 'F1']]\n",
        "                 .style\n",
        "                 .format(\"{:.3f}\")\n",
        "                 .background_gradient(cmap='Blues')\n",
        "                 .set_properties(**{'text-align': 'center'}))\n",
        "\n",
        "    # Set table styles\n",
        "    styled_df1.set_table_styles([{\n",
        "        'selector': 'th',\n",
        "        'props': [('text-align', 'center')]\n",
        "    }])\n",
        "\n",
        "    display(styled_df1)\n",
        "\n",
        "    # Detailed counts table\n",
        "    display_style(\"\\n=== Detailed Counts ===\", color='green', weight='bold')\n",
        "    styled_df2 = (df[['TP', 'FP', 'FN']]\n",
        "                 .style\n",
        "                 .format(\"{:.0f}\")\n",
        "                 .background_gradient(cmap='Reds')\n",
        "                 .set_properties(**{'text-align': 'center'}))\n",
        "\n",
        "    # Set table styles\n",
        "    styled_df2.set_table_styles([{\n",
        "        'selector': 'th',\n",
        "        'props': [('text-align', 'center')]\n",
        "    }])\n",
        "\n",
        "    display(styled_df2)\n",
        "\n",
        "    # Final recommendations\n",
        "    display_style(\"\\n=== Recommendations ===\", color='green', weight='bold')\n",
        "    best_method = df['F1'].idxmax()\n",
        "    display_style(f\"Best performing method: {best_method} (F1: {df.loc[best_method]['F1']:.3f})\",\n",
        "                 color='darkgreen', weight='bold')\n",
        "\n",
        "    if df['FP'].sum() > df['FN'].sum():\n",
        "        display_style(\"Model tends to make more False Positives (over-prediction)\", color='darkorange')\n",
        "    else:\n",
        "        display_style(\"Model tends to make more False Negatives (under-prediction)\", color='darkorange')"
      ]
    }
  ],
  "metadata": {
    "colab": {
      "provenance": []
    },
    "kernelspec": {
      "display_name": "Python 3",
      "name": "python3"
    },
    "language_info": {
      "name": "python"
    }
  },
  "nbformat": 4,
  "nbformat_minor": 0
}
